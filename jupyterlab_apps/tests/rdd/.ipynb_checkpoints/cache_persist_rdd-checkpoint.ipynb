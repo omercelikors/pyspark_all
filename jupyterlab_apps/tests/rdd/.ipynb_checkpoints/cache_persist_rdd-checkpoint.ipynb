{
 "cells": [
  {
   "cell_type": "code",
   "execution_count": 1,
   "metadata": {},
   "outputs": [
    {
     "name": "stderr",
     "output_type": "stream",
     "text": [
      "22/11/12 12:57:25 WARN NativeCodeLoader: Unable to load native-hadoop library for your platform... using builtin-java classes where applicable\n",
      "Using Spark's default log4j profile: org/apache/spark/log4j-defaults.properties\n",
      "Setting default log level to \"WARN\".\n",
      "To adjust logging level use sc.setLogLevel(newLevel). For SparkR, use setLogLevel(newLevel).\n"
     ]
    }
   ],
   "source": [
    "# Import SparkSession\n",
    "from pyspark.sql import SparkSession\n",
    "import pyspark\n",
    "\n",
    "# Spark session internally creates a sparkContext variable of SparkContext. \n",
    "# You can create multiple SparkSession objects but only one SparkContext per JVM. \n",
    "# In case if you want to create another new SparkContext you should stop existing \n",
    "# Sparkcontext (using stop()) before creating a new one.\n",
    "# Create SparkSession.\n",
    "spark = SparkSession.\\\n",
    "        builder.\\\n",
    "        appName(\"create_rdd\").\\\n",
    "        master(\"spark://spark-master:7077\").\\\n",
    "        config(\"spark.executor.memory\", \"512m\").\\\n",
    "        getOrCreate()"
   ]
  },
  {
   "cell_type": "code",
   "execution_count": 2,
   "metadata": {},
   "outputs": [
    {
     "name": "stderr",
     "output_type": "stream",
     "text": [
      "                                                                                \r"
     ]
    },
    {
     "data": {
      "text/plain": [
       "[(9, 'Project'),\n",
       " (9, 'Gutenberg’s'),\n",
       " (18, 'Adventures'),\n",
       " (18, 'Wonderland'),\n",
       " (18, 'by'),\n",
       " (18, 'Lewis'),\n",
       " (18, 'Carroll'),\n",
       " (18, 'Alice’s'),\n",
       " (18, 'in'),\n",
       " (27, 'This'),\n",
       " (27, 'eBook'),\n",
       " (27, 'for'),\n",
       " (27, 'the'),\n",
       " (27, 'cost'),\n",
       " (27, 'and'),\n",
       " (27, 'with'),\n",
       " (27, 'is'),\n",
       " (27, 'use'),\n",
       " (27, 'of'),\n",
       " (27, 'anyone'),\n",
       " (27, 'anywhere'),\n",
       " (27, 'at'),\n",
       " (27, 'no')]"
      ]
     },
     "execution_count": 2,
     "metadata": {},
     "output_type": "execute_result"
    }
   ],
   "source": [
    "# RDD cache() usage.\n",
    "# sparkSession.sharedState.cacheManager.cacheQuery\n",
    "rdd1 = spark.sparkContext.textFile(\"/opt/data/tests/input_datas/story.txt\").cache()\n",
    "rdd2 = rdd1.flatMap(lambda x: x.split(\" \"))\n",
    "rdd3 = rdd2.map(lambda x: (x,1))\n",
    "rdd4 = rdd3.reduceByKey(lambda a,b: a+b)\n",
    "rdd5 = rdd4.map(lambda x: (x[1],x[0])).sortByKey()\n",
    "rdd5.collect()"
   ]
  },
  {
   "cell_type": "code",
   "execution_count": 5,
   "metadata": {},
   "outputs": [
    {
     "name": "stdout",
     "output_type": "stream",
     "text": [
      "<class 'pyspark.rdd.RDD'>\n"
     ]
    }
   ],
   "source": [
    "# Persist.\n",
    "# org.apache.spark.storage.StorageLevel\n",
    "rdd_persist1 = rdd1.persist(pyspark.StorageLevel.MEMORY_ONLY)\n",
    "print(type(rdd_persist1))"
   ]
  },
  {
   "cell_type": "code",
   "execution_count": 6,
   "metadata": {},
   "outputs": [
    {
     "name": "stdout",
     "output_type": "stream",
     "text": [
      "<class 'pyspark.rdd.RDD'>\n"
     ]
    }
   ],
   "source": [
    "# Unpersist.\n",
    "rdd_persist2 = rdd_persist1.unpersist()\n",
    "print(type(rdd_persist2))"
   ]
  }
 ],
 "metadata": {
  "kernelspec": {
   "display_name": "Python 3 (ipykernel)",
   "language": "python",
   "name": "python3"
  },
  "language_info": {
   "codemirror_mode": {
    "name": "ipython",
    "version": 3
   },
   "file_extension": ".py",
   "mimetype": "text/x-python",
   "name": "python",
   "nbconvert_exporter": "python",
   "pygments_lexer": "ipython3",
   "version": "3.9.2"
  },
  "vscode": {
   "interpreter": {
    "hash": "31f2aee4e71d21fbe5cf8b01ff0e069b9275f58929596ceb00d14d90e3e16cd6"
   }
  }
 },
 "nbformat": 4,
 "nbformat_minor": 4
}
